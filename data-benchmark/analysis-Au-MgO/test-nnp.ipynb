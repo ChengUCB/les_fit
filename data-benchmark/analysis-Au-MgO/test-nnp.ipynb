{
 "cells": [
  {
   "cell_type": "code",
   "execution_count": 38,
   "id": "bda6b2b4",
   "metadata": {},
   "outputs": [],
   "source": [
    "import numpy as np\n",
    "import matplotlib.pyplot as plt\n",
    "import torch\n",
    "import torch.nn as nn"
   ]
  },
  {
   "cell_type": "code",
   "execution_count": 39,
   "id": "cb050c89-b071-4759-83ae-470ea71c050a",
   "metadata": {},
   "outputs": [],
   "source": [
    "import ase\n",
    "from ase import Atoms\n",
    "from ase.optimize import FIRE\n",
    "from ase.io import read,write\n",
    "from ase.constraints import FixAtoms"
   ]
  },
  {
   "cell_type": "code",
   "execution_count": 40,
   "id": "8e5f9f64-3af2-40ad-b2e8-64769defe1b3",
   "metadata": {},
   "outputs": [],
   "source": [
    "from copy import deepcopy"
   ]
  },
  {
   "cell_type": "code",
   "execution_count": 41,
   "id": "e3072221",
   "metadata": {},
   "outputs": [],
   "source": [
    "from matplotlib import cm"
   ]
  },
  {
   "cell_type": "code",
   "execution_count": 42,
   "id": "b06b118b",
   "metadata": {},
   "outputs": [],
   "source": [
    "from mace.calculators import MACECalculator"
   ]
  },
  {
   "cell_type": "code",
   "execution_count": 43,
   "id": "69b01c9f",
   "metadata": {},
   "outputs": [],
   "source": [
    "dir_now = '../fit-Au-MgO-Al-mp1-maceles-2/'"
   ]
  },
  {
   "cell_type": "code",
   "execution_count": 44,
   "id": "b7eac9ae-406f-46c4-a40f-849e3bbfe531",
   "metadata": {},
   "outputs": [
    {
     "name": "stderr",
     "output_type": "stream",
     "text": [
      "WARNING:root:'model_path' argument is deprecated, please use 'model_paths' in the future.\n"
     ]
    },
    {
     "name": "stdout",
     "output_type": "stream",
     "text": [
      "Using head default out of ['default']\n",
      "No dtype selected, switching to float64 to match model dtype.\n"
     ]
    }
   ],
   "source": [
    "calculator = MACECalculator(model_path=dir_now+'Au2-MgO_stagetwo.model', device='cpu')"
   ]
  },
  {
   "cell_type": "code",
   "execution_count": 45,
   "id": "bfa6400c",
   "metadata": {},
   "outputs": [],
   "source": [
    "# 1: non-wetting\n",
    "# 3: wetting"
   ]
  },
  {
   "cell_type": "code",
   "execution_count": 46,
   "id": "a1deef4e-c794-4588-9efc-645d722c4a49",
   "metadata": {},
   "outputs": [
    {
     "name": "stdout",
     "output_type": "stream",
     "text": [
      "1-doped DFT energy: -1480190.9067329187\n",
      "1-doped MACE energy: -1480190.9382085274\n",
      "--\n",
      "3-doped DFT energy: -1480190.9736729292\n",
      "3-doped MACE energy: -1480191.0016285437\n",
      "--\n",
      "1-undoped DFT energy: -1476723.6744394903\n",
      "1-undoped MACE energy: -1476723.7196368126\n",
      "--\n",
      "3-undoped DFT energy: -1476722.7396195226\n",
      "3-undoped MACE energy: -1476722.7902064875\n",
      "--\n"
     ]
    }
   ],
   "source": [
    "results = {}\n",
    "results['MACE'] = {}\n",
    "results['DFT'] = {}\n",
    "\n",
    "for configs in ['1-doped', '3-doped', '1-undoped', '3-undoped']:\n",
    "    test_xyz = ase.io.read('./dft-optimized-struct/'+configs+'.xyz', '0')\n",
    "    atomic_numbers = test_xyz.get_atomic_numbers()\n",
    "    print(configs, \"DFT energy:\", test_xyz.info['energy'])\n",
    "    results['DFT'][configs] = test_xyz.info['energy']\n",
    "\n",
    "    substrate_index = [atom.index for atom in test_xyz if atom.symbol in ['Mg', 'O', 'Al']]\n",
    "    au_index = [atom.index for atom in test_xyz if atom.symbol in ['Au']]\n",
    "\n",
    "    atoms = deepcopy(test_xyz)\n",
    "\n",
    "    # relax\n",
    "    atoms.set_calculator(calculator)\n",
    "\n",
    "\n",
    "    c = FixAtoms(indices=substrate_index)\n",
    "\n",
    "    atoms.set_constraint(c)\n",
    "\n",
    "\n",
    "    # Perform geometry optimization\n",
    "    opt = FIRE(atoms, logfile=None)\n",
    "\n",
    "    run = opt.run(fmax=0.01, steps=500)  # Adjust fmax yfor convergence criteria\n",
    "\n",
    "    write(dir_now+'relaxated-'+configs+'.xyz', atoms)\n",
    "\n",
    "    print(configs, \"MACE energy:\", atoms.get_potential_energy())\n",
    "    results['MACE'][configs] = atoms.get_potential_energy()\n",
    "    print(\"--\")"
   ]
  },
  {
   "cell_type": "code",
   "execution_count": 47,
   "id": "c17461a6",
   "metadata": {},
   "outputs": [
    {
     "name": "stdout",
     "output_type": "stream",
     "text": [
      "{'MACE': {'1-doped': -1480190.9382085274, '3-doped': -1480191.0016285437, '1-undoped': -1476723.7196368126, '3-undoped': -1476722.7902064875}, 'DFT': {'1-doped': -1480190.9067329187, '3-doped': -1480190.9736729292, '1-undoped': -1476723.6744394903, '3-undoped': -1476722.7396195226}}\n"
     ]
    }
   ],
   "source": [
    "print(results)"
   ]
  },
  {
   "cell_type": "code",
   "execution_count": 48,
   "id": "612312b9-a9a5-4d10-b854-a05df064267b",
   "metadata": {},
   "outputs": [
    {
     "name": "stdout",
     "output_type": "stream",
     "text": [
      "DFT dopped dE [meV]:\n"
     ]
    },
    {
     "data": {
      "text/plain": [
       "-66.9400105252862"
      ]
     },
     "execution_count": 48,
     "metadata": {},
     "output_type": "execute_result"
    }
   ],
   "source": [
    "# DFT Doped $E_{wetting}-E_{nonwetting}$ (meV)\n",
    "print(\"DFT dopped dE [meV]:\")\n",
    "(results['DFT']['3-doped'] - results['DFT']['1-doped'])* 1000."
   ]
  },
  {
   "cell_type": "code",
   "execution_count": 49,
   "id": "0ee1aa4c-20bd-484e-ab2d-1003e6ea4336",
   "metadata": {},
   "outputs": [
    {
     "name": "stdout",
     "output_type": "stream",
     "text": [
      "DFT undopped dE [meV]:\n"
     ]
    },
    {
     "data": {
      "text/plain": [
       "934.8199677187949"
      ]
     },
     "execution_count": 49,
     "metadata": {},
     "output_type": "execute_result"
    }
   ],
   "source": [
    "# DFT Doped $E_{wetting}-E_{nonwetting}$ (meV)\n",
    "print(\"DFT undopped dE [meV]:\")\n",
    "(results['DFT']['3-undoped'] - results['DFT']['1-undoped'])* 1000."
   ]
  },
  {
   "cell_type": "code",
   "execution_count": 50,
   "id": "5424f435-d3bf-43e9-b1fd-5ce02550f795",
   "metadata": {},
   "outputs": [
    {
     "name": "stdout",
     "output_type": "stream",
     "text": [
      "MACE dopped dE [meV]:\n"
     ]
    },
    {
     "data": {
      "text/plain": [
       "-63.42001631855965"
      ]
     },
     "execution_count": 50,
     "metadata": {},
     "output_type": "execute_result"
    }
   ],
   "source": [
    "# MACE Doped $E_{wetting}-E_{nonwetting}$ (meV)\n",
    "print(\"MACE dopped dE [meV]:\")\n",
    "(results['MACE']['3-doped'] - results['MACE']['1-doped'])* 1000."
   ]
  },
  {
   "cell_type": "code",
   "execution_count": 51,
   "id": "ca90a83f",
   "metadata": {},
   "outputs": [
    {
     "name": "stdout",
     "output_type": "stream",
     "text": [
      "MACE undopped dE [meV]:\n"
     ]
    },
    {
     "data": {
      "text/plain": [
       "929.430325049907"
      ]
     },
     "execution_count": 51,
     "metadata": {},
     "output_type": "execute_result"
    }
   ],
   "source": [
    "# DFT Doped $E_{wetting}-E_{nonwetting}$ (meV)\n",
    "print(\"MACE undopped dE [meV]:\")\n",
    "(results['MACE']['3-undoped'] - results['MACE']['1-undoped'])* 1000."
   ]
  },
  {
   "cell_type": "code",
   "execution_count": null,
   "id": "aefb35a0",
   "metadata": {},
   "outputs": [],
   "source": []
  }
 ],
 "metadata": {
  "kernelspec": {
   "display_name": "Python 3 (ipykernel)",
   "language": "python",
   "name": "python3"
  },
  "language_info": {
   "codemirror_mode": {
    "name": "ipython",
    "version": 3
   },
   "file_extension": ".py",
   "mimetype": "text/x-python",
   "name": "python",
   "nbconvert_exporter": "python",
   "pygments_lexer": "ipython3",
   "version": "3.8.16"
  }
 },
 "nbformat": 4,
 "nbformat_minor": 5
}
