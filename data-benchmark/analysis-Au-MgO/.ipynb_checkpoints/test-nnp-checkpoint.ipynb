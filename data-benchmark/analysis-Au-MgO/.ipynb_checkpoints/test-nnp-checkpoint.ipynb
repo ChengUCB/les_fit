{
 "cells": [
  {
   "cell_type": "code",
   "execution_count": 1,
   "id": "bda6b2b4",
   "metadata": {},
   "outputs": [],
   "source": [
    "import numpy as np\n",
    "import matplotlib.pyplot as plt\n",
    "import torch\n",
    "import torch.nn as nn"
   ]
  },
  {
   "cell_type": "code",
   "execution_count": 2,
   "id": "cb050c89-b071-4759-83ae-470ea71c050a",
   "metadata": {},
   "outputs": [],
   "source": [
    "import ase\n",
    "from ase import Atoms\n",
    "from ase.optimize import FIRE\n",
    "from ase.io import read,write\n",
    "from ase.constraints import FixAtoms"
   ]
  },
  {
   "cell_type": "code",
   "execution_count": 3,
   "id": "8e5f9f64-3af2-40ad-b2e8-64769defe1b3",
   "metadata": {},
   "outputs": [],
   "source": [
    "from copy import deepcopy"
   ]
  },
  {
   "cell_type": "code",
   "execution_count": 4,
   "id": "e3072221",
   "metadata": {},
   "outputs": [],
   "source": [
    "from matplotlib import cm"
   ]
  },
  {
   "cell_type": "code",
   "execution_count": 8,
   "id": "93ec98ea",
   "metadata": {},
   "outputs": [],
   "source": [
    "from mace.calculators import MACECalculator"
   ]
  },
  {
   "cell_type": "code",
   "execution_count": 10,
   "id": "69b01c9f",
   "metadata": {},
   "outputs": [],
   "source": [
    "dir_now = '../fit-Au-MgO-Al-mp0-mace/'"
   ]
  },
  {
   "cell_type": "code",
   "execution_count": 14,
   "id": "b7eac9ae-406f-46c4-a40f-849e3bbfe531",
   "metadata": {},
   "outputs": [
    {
     "name": "stderr",
     "output_type": "stream",
     "text": [
      "WARNING:root:'model_path' argument is deprecated, please use 'model_paths' in the future.\n"
     ]
    },
    {
     "name": "stdout",
     "output_type": "stream",
     "text": [
      "No dtype selected, switching to float64 to match model dtype.\n"
     ]
    }
   ],
   "source": [
    "calculator = MACECalculator(model_path=dir_now+'Au2-MgO_stagetwo.model', device='cpu')"
   ]
  },
  {
   "cell_type": "code",
   "execution_count": 12,
   "id": "bfa6400c",
   "metadata": {},
   "outputs": [],
   "source": [
    "# 1: non-wetting\n",
    "# 3: wetting"
   ]
  },
  {
   "cell_type": "code",
   "execution_count": 20,
   "id": "a1deef4e-c794-4588-9efc-645d722c4a49",
   "metadata": {},
   "outputs": [
    {
     "name": "stdout",
     "output_type": "stream",
     "text": [
      "1-doped DFT energy: -1480190.9067329187\n",
      "1-doped MACE energy: -1480191.1549524306\n",
      "--\n",
      "3-doped DFT energy: -1480190.9736729292\n",
      "3-doped MACE energy: -1480190.7359379241\n",
      "--\n",
      "1-undoped DFT energy: -1476723.6744394903\n",
      "1-undoped MACE energy: -1476723.455555765\n",
      "--\n",
      "3-undoped DFT energy: -1476722.7396195226\n",
      "3-undoped MACE energy: -1476723.0365551354\n",
      "--\n"
     ]
    }
   ],
   "source": [
    "results = {}\n",
    "results['MACE'] = {}\n",
    "results['DFT'] = {}\n",
    "\n",
    "for configs in ['1-doped', '3-doped', '1-undoped', '3-undoped']:\n",
    "    test_xyz = ase.io.read('./dft-optimized-struct/'+configs+'.xyz', '0')\n",
    "    atomic_numbers = test_xyz.get_atomic_numbers()\n",
    "    print(configs, \"DFT energy:\", test_xyz.info['energy'])\n",
    "    results['DFT'][configs] = test_xyz.info['energy']\n",
    "\n",
    "    substrate_index = [atom.index for atom in test_xyz if atom.symbol in ['Mg', 'O', 'Al']]\n",
    "    au_index = [atom.index for atom in test_xyz if atom.symbol in ['Au']]\n",
    "\n",
    "    atoms = deepcopy(test_xyz)\n",
    "\n",
    "    # relax\n",
    "    atoms.set_calculator(calculator)\n",
    "\n",
    "\n",
    "    c = FixAtoms(indices=substrate_index)\n",
    "\n",
    "    atoms.set_constraint(c)\n",
    "\n",
    "\n",
    "    # Perform geometry optimization\n",
    "    opt = FIRE(atoms, logfile=None)\n",
    "\n",
    "    run = opt.run(fmax=0.01, steps=500)  # Adjust fmax yfor convergence criteria\n",
    "\n",
    "    write(dir_now+'relaxated-'+configs+'.xyz', atoms)\n",
    "\n",
    "    print(configs, \"MACE energy:\", atoms.get_potential_energy())\n",
    "    results['MACE'][configs] = atoms.get_potential_energy()\n",
    "    print(\"--\")"
   ]
  },
  {
   "cell_type": "code",
   "execution_count": 21,
   "id": "c17461a6",
   "metadata": {},
   "outputs": [
    {
     "name": "stdout",
     "output_type": "stream",
     "text": [
      "{'MACE': {'1-doped': -1480191.1549524306, '3-doped': -1480190.7359379241, '1-undoped': -1476723.455555765, '3-undoped': -1476723.0365551354}, 'DFT': {'1-doped': -1480190.9067329187, '3-doped': -1480190.9736729292, '1-undoped': -1476723.6744394903, '3-undoped': -1476722.7396195226}}\n"
     ]
    }
   ],
   "source": [
    "print(results)"
   ]
  },
  {
   "cell_type": "code",
   "execution_count": 17,
   "id": "612312b9-a9a5-4d10-b854-a05df064267b",
   "metadata": {},
   "outputs": [
    {
     "data": {
      "text/plain": [
       "-0.07056929999999995"
      ]
     },
     "execution_count": 17,
     "metadata": {},
     "output_type": "execute_result"
    }
   ],
   "source": [
    " -0.9377692 - -0.8671999"
   ]
  },
  {
   "cell_type": "code",
   "execution_count": 18,
   "id": "0ee1aa4c-20bd-484e-ab2d-1003e6ea4336",
   "metadata": {},
   "outputs": [
    {
     "data": {
      "text/plain": [
       "-0.9348199677187949"
      ]
     },
     "execution_count": 18,
     "metadata": {},
     "output_type": "execute_result"
    }
   ],
   "source": [
    "-1.3590977899730206 - -0.4242778222542256"
   ]
  },
  {
   "cell_type": "code",
   "execution_count": 19,
   "id": "5424f435-d3bf-43e9-b1fd-5ce02550f795",
   "metadata": {},
   "outputs": [
    {
     "data": {
      "text/plain": [
       "-0.9313415699999998"
      ]
     },
     "execution_count": 19,
     "metadata": {},
     "output_type": "execute_result"
    }
   ],
   "source": [
    "-1.4050766 - -0.47373503"
   ]
  },
  {
   "cell_type": "code",
   "execution_count": null,
   "id": "ca90a83f",
   "metadata": {},
   "outputs": [],
   "source": []
  }
 ],
 "metadata": {
  "kernelspec": {
   "display_name": "Python 3 (ipykernel)",
   "language": "python",
   "name": "python3"
  },
  "language_info": {
   "codemirror_mode": {
    "name": "ipython",
    "version": 3
   },
   "file_extension": ".py",
   "mimetype": "text/x-python",
   "name": "python",
   "nbconvert_exporter": "python",
   "pygments_lexer": "ipython3",
   "version": "3.8.16"
  }
 },
 "nbformat": 4,
 "nbformat_minor": 5
}
