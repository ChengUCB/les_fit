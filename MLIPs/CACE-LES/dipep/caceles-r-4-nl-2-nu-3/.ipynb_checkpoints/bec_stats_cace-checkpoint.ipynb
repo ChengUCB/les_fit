{
 "cells": [
  {
   "cell_type": "code",
   "execution_count": 1,
   "id": "68daaed3-a67b-48c7-a29d-df634683d0b5",
   "metadata": {},
   "outputs": [],
   "source": [
    "import sys\n",
    "sys.path.append('/global/home/users/dongjinkim/software/cace/')\n",
    "# sys.path.append('/global/home/users/dongjinkim/software/les/')\n",
    "# from les import Les\n",
    "import os\n",
    "src = os.path.join('/global/home/users/dongjinkim/software/les', 'src')\n",
    "if src not in sys.path:\n",
    "    sys.path.insert(0, src)\n",
    "\n",
    "import torch\n",
    "import cace\n",
    "from les import Les"
   ]
  },
  {
   "cell_type": "code",
   "execution_count": 2,
   "id": "ab4d326c-f5d8-45a8-9352-931bc11612bc",
   "metadata": {},
   "outputs": [],
   "source": [
    "# word = 'h2o_rpbe_d3'\n",
    "root = './best_model.pth'\n",
    "to_read = \"../data-sets/spice-dipep-dipolar_val.xyz\"\n",
    "to_write = \"./dipep_cace.xyz\""
   ]
  },
  {
   "cell_type": "code",
   "execution_count": 3,
   "id": "6e06bcc2-9a9a-4ca9-9c4d-e58af3a3fc48",
   "metadata": {},
   "outputs": [],
   "source": [
    "cace_nnp = torch.load(root, map_location='cuda')"
   ]
  },
  {
   "cell_type": "code",
   "execution_count": 4,
   "id": "32e1c2a1-429b-44a8-8947-398e3a30faf6",
   "metadata": {},
   "outputs": [
    {
     "name": "stdout",
     "output_type": "stream",
     "text": [
      "ready\n"
     ]
    }
   ],
   "source": [
    "les = cace_nnp.output_modules[0]\n",
    "les.set_compute_bec(True)\n",
    "les.model_outputs.append(les.bec_key)\n",
    "cace_nnp.collect_outputs()\n",
    "cace_nnp.cuda()\n",
    "print('ready')"
   ]
  },
  {
   "cell_type": "code",
   "execution_count": 5,
   "id": "9e3dc2cc-cdbb-4cfb-b9fc-b12fc84fdb19",
   "metadata": {},
   "outputs": [],
   "source": [
    "from cace.tools import torch_geometric\n",
    "from cace.data import AtomicData\n",
    "from ase.io import read\n",
    "xyz = read(to_read, index=':')\n",
    "# print(xyz.get_cell_lengths_and_angles())\n",
    "xyz_data = torch_geometric.dataloader.DataLoader(\n",
    "    dataset=[\n",
    "            AtomicData.from_atoms(\n",
    "            atoms, cutoff=4.5\n",
    "            ) for atoms in xyz\n",
    "    ],\n",
    "    batch_size=1,\n",
    "    shuffle=False,\n",
    "    drop_last=False,)"
   ]
  },
  {
   "cell_type": "code",
   "execution_count": 6,
   "id": "ab5692f9-8be8-4abe-940e-30e86c86a720",
   "metadata": {},
   "outputs": [
    {
     "data": {
      "text/plain": [
       "dict_keys(['ewald_potential', 'stress', 'LES_BEC', 'CACE_energy', 'LES_charge', 'CACE_forces', 'SR_energy'])"
      ]
     },
     "execution_count": 6,
     "metadata": {},
     "output_type": "execute_result"
    }
   ],
   "source": [
    "batch = next(iter(xyz_data)).cuda()\n",
    "data_dict = batch.to_dict()\n",
    "result_t = cace_nnp(data_dict)\n",
    "result_t.keys()"
   ]
  },
  {
   "cell_type": "code",
   "execution_count": 7,
   "id": "946863a1-ee3d-4cc2-9a9b-7bbb53d4eb41",
   "metadata": {},
   "outputs": [],
   "source": [
    "evaluator = cace.tasks.EvaluateTask(model_path=cace_nnp, device='cuda',\n",
    "                                    other_keys=['LES_charge', 'LES_BEC'],\n",
    "                                    )\n",
    "from ase.io import read\n",
    "dataset = read(to_read, index=':')\n",
    "result = evaluator(data=dataset, batch_size=1, compute_stress=False, xyz_output=to_write)"
   ]
  },
  {
   "cell_type": "code",
   "execution_count": 10,
   "id": "92dae390-05e9-4bdf-a75e-82f60dbd6861",
   "metadata": {},
   "outputs": [
    {
     "name": "stdout",
     "output_type": "stream",
     "text": [
      "MAE:  0.08519213167433101\n",
      "RMSE:  0.13666687614188572\n",
      "R2:  0.8524740919278359\n"
     ]
    }
   ],
   "source": [
    "from ase.io import read\n",
    "import numpy as np\n",
    "import sys\n",
    "\n",
    "ref_xyz = read(to_read, index=':')\n",
    "\n",
    "cace_xyz = read(to_write, index=':')\n",
    "\n",
    "epsilon_r = 1 # float(sys.argv[2])\n",
    "# collect all the bec tensors\n",
    "\n",
    "bec_refs = []\n",
    "bec_preds = []\n",
    "\n",
    "for xyz in ref_xyz:\n",
    "    # get the bec tensor\n",
    "    bec_ref = xyz.get_array('bec')\n",
    "    # print(bec_ref.shape)\n",
    "\n",
    "    # append to the list\n",
    "    bec_refs.append(bec_ref)\n",
    "\n",
    "for xyz in cace_xyz:\n",
    "    bec_pred = xyz.get_array('LES_BEC') * epsilon_r**0.5 * 1\n",
    "    bec_preds.append(bec_pred)\n",
    "\n",
    "# # convert to numpy arrays\n",
    "# bec_refs = np.array(bec_refs)\n",
    "# bec_preds = np.array(bec_preds)\n",
    "\n",
    "# # calculate the errors\n",
    "# bec_errors = bec_refs - bec_preds\n",
    "# # calculate the mean and std\n",
    "# mae = np.mean(np.abs(bec_errors))\n",
    "# rmse = np.sqrt(np.mean(bec_errors**2))\n",
    "# r2 = 1 - np.sum(bec_errors**2) / np.sum((bec_refs - np.mean(bec_refs))**2)\n",
    "# # print the results\n",
    "# print('MAE: ', mae)\n",
    "# print('RMSE: ', rmse)\n",
    "# print('R2: ', r2)\n",
    "\n",
    "all_ref = np.concatenate([x.flatten() for x in bec_refs])\n",
    "all_pred = np.concatenate([x.flatten() for x in bec_preds])\n",
    "bec_errors = all_ref - all_pred\n",
    "\n",
    "mae = np.mean(np.abs(all_ref - all_pred))\n",
    "rmse = np.sqrt(np.mean((all_ref - all_pred)**2))\n",
    "r2 = 1 - np.sum(bec_errors**2) / np.sum((all_ref - np.mean(all_ref))**2)\n",
    "\n",
    "print('MAE: ', mae)\n",
    "print('RMSE: ', rmse)\n",
    "print('R2: ', r2)\n",
    "\n"
   ]
  }
 ],
 "metadata": {
  "kernelspec": {
   "display_name": "Python 3 (ipykernel)",
   "language": "python",
   "name": "python3"
  },
  "language_info": {
   "codemirror_mode": {
    "name": "ipython",
    "version": 3
   },
   "file_extension": ".py",
   "mimetype": "text/x-python",
   "name": "python",
   "nbconvert_exporter": "python",
   "pygments_lexer": "ipython3",
   "version": "3.11.7"
  }
 },
 "nbformat": 4,
 "nbformat_minor": 5
}
