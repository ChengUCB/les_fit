{
 "cells": [
  {
   "cell_type": "code",
   "execution_count": 1,
   "id": "68daaed3-a67b-48c7-a29d-df634683d0b5",
   "metadata": {},
   "outputs": [],
   "source": [
    "import sys\n",
    "sys.path.append('/global/home/users/dongjinkim/software/cace/')\n",
    "import os\n",
    "src = os.path.join('/global/home/users/dongjinkim/software/les', 'src')\n",
    "if src not in sys.path:\n",
    "    sys.path.insert(0, src)\n",
    "\n",
    "import torch\n",
    "import cace\n",
    "from les import Les"
   ]
  },
  {
   "cell_type": "code",
   "execution_count": 2,
   "id": "ab4d326c-f5d8-45a8-9352-931bc11612bc",
   "metadata": {},
   "outputs": [],
   "source": [
    "\n",
    "root = './best_model.pth'\n",
    "average_E0 = {1: -2.896676340469314, 6: -6.951186908157155, 7: -5.014517770054954, 8: -4.0789398742002545}\n",
    "to_read = \"../data-sets/spice-dipep-dipolar_val.xyz\""
   ]
  },
  {
   "cell_type": "code",
   "execution_count": 3,
   "id": "6e06bcc2-9a9a-4ca9-9c4d-e58af3a3fc48",
   "metadata": {},
   "outputs": [],
   "source": [
    "cace_nnp = torch.load(root, map_location='cuda')"
   ]
  },
  {
   "cell_type": "code",
   "execution_count": 4,
   "id": "9e3dc2cc-cdbb-4cfb-b9fc-b12fc84fdb19",
   "metadata": {},
   "outputs": [],
   "source": [
    "from cace.tools import torch_geometric\n",
    "from cace.data import AtomicData\n",
    "from ase.io import read\n",
    "xyz = read(to_read, index=':')\n",
    "# print(xyz.get_cell_lengths_and_angles())\n",
    "xyz_data = torch_geometric.dataloader.DataLoader(\n",
    "    dataset=[\n",
    "            AtomicData.from_atoms(\n",
    "            atoms, cutoff=4.5\n",
    "            ) for atoms in xyz\n",
    "    ],\n",
    "    batch_size=1,\n",
    "    shuffle=False,\n",
    "    drop_last=False,)"
   ]
  },
  {
   "cell_type": "code",
   "execution_count": 5,
   "id": "ab5692f9-8be8-4abe-940e-30e86c86a720",
   "metadata": {},
   "outputs": [
    {
     "data": {
      "text/plain": [
       "dict_keys(['stress', 'CACE_forces', 'CACE_energy'])"
      ]
     },
     "execution_count": 5,
     "metadata": {},
     "output_type": "execute_result"
    }
   ],
   "source": [
    "batch = next(iter(xyz_data)).cuda()\n",
    "data_dict = batch.to_dict()\n",
    "result_t = cace_nnp(data_dict)\n",
    "result_t.keys()"
   ]
  },
  {
   "cell_type": "code",
   "execution_count": 6,
   "id": "99ef33fe-ee6e-4297-a2fc-aca36ef6ba86",
   "metadata": {},
   "outputs": [
    {
     "name": "stdout",
     "output_type": "stream",
     "text": [
      "55\n"
     ]
    }
   ],
   "source": [
    "print(len(xyz_data))"
   ]
  },
  {
   "cell_type": "code",
   "execution_count": 7,
   "id": "946863a1-ee3d-4cc2-9a9b-7bbb53d4eb41",
   "metadata": {},
   "outputs": [],
   "source": [
    "evaluator = cace.tasks.EvaluateTask(model_path=cace_nnp, device='cuda',\n",
    "                                    energy_key = 'CACE_energy',\n",
    "                                    forces_key = 'CACE_forces',\n",
    "                                    # other_keys=['CACE_forces', 'CACE_energy'],\n",
    "                                    atomic_energies = average_E0,\n",
    "                                    )\n",
    "from ase.io import read\n",
    "dataset = read(to_read, index=':')\n",
    "result = evaluator(data=dataset, batch_size=1, compute_stress=False)"
   ]
  },
  {
   "cell_type": "code",
   "execution_count": 8,
   "id": "689a375d-97c5-4738-9301-0f49f03d72a8",
   "metadata": {},
   "outputs": [
    {
     "name": "stdout",
     "output_type": "stream",
     "text": [
      "-202.67088\n"
     ]
    }
   ],
   "source": [
    "print(result['energy'][0])"
   ]
  },
  {
   "cell_type": "code",
   "execution_count": 10,
   "id": "2bbfd992-e9c0-4ef2-9f1a-be7979171028",
   "metadata": {},
   "outputs": [
    {
     "name": "stdout",
     "output_type": "stream",
     "text": [
      "Energy RMSE: 0.1522 eV\n",
      "Force  RMSE: 0.1089 eV/Å\n",
      "Per-atom energy RMSE: 3.27 meV/atom\n"
     ]
    }
   ],
   "source": [
    "import numpy as np\n",
    "pred_energy = result['energy']    \n",
    "pred_forces = result['forces'] \n",
    "\n",
    "ref_energy = np.array([atoms.info['energy'] for atoms in dataset])\n",
    "ref_forces = np.vstack([atoms.get_array('forces') for atoms in dataset])\n",
    "\n",
    "def rmse(a, b):\n",
    "    a = np.asarray(a).ravel()\n",
    "    b = np.asarray(b).ravel()\n",
    "    return np.sqrt(np.mean((a - b)**2))\n",
    "\n",
    "energy_rmse = rmse(ref_energy, pred_energy)\n",
    "force_rmse  = rmse(ref_forces, pred_forces)\n",
    "\n",
    "print(f\"Energy RMSE: {energy_rmse:.4f} eV\")\n",
    "print(f\"Force  RMSE: {force_rmse:.4f} eV/Å\")\n",
    "\n",
    "atoms_list = read(to_read, index=\":\")\n",
    "n_atoms = np.array([len(atoms) for atoms in atoms_list])\n",
    "\n",
    "ref_e_per_atom  = ref_energy  / n_atoms\n",
    "pred_e_per_atom = pred_energy / n_atoms\n",
    "\n",
    "rmse_per_atom = rmse(ref_e_per_atom, pred_e_per_atom)\n",
    "\n",
    "print(f\"Per-atom energy RMSE: {rmse_per_atom*1000:.2f} meV/atom\")"
   ]
  }
 ],
 "metadata": {
  "kernelspec": {
   "display_name": "Python 3 (ipykernel)",
   "language": "python",
   "name": "python3"
  },
  "language_info": {
   "codemirror_mode": {
    "name": "ipython",
    "version": 3
   },
   "file_extension": ".py",
   "mimetype": "text/x-python",
   "name": "python",
   "nbconvert_exporter": "python",
   "pygments_lexer": "ipython3",
   "version": "3.11.7"
  }
 },
 "nbformat": 4,
 "nbformat_minor": 5
}
